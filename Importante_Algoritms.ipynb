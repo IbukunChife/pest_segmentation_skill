{
 "cells": [
  {
   "cell_type": "markdown",
   "metadata": {},
   "source": [
    "### Sharpening_with_OpenCv"
   ]
  },
  {
   "cell_type": "code",
   "execution_count": null,
   "metadata": {},
   "outputs": [],
   "source": [
    "import cv2 \n",
    "import numpy as np \n",
    " \n",
    "img = cv2.imread('02.jpg') \n",
    "img = cv2.resize(img, None, fx=0.25, fy=0.25,interpolation=cv2.INTER_CUBIC)\n",
    "cv2.imshow('Original', img) \n",
    " \n",
    "# generating the kernels \n",
    "kernel_sharpen_1 = np.array([[-1,-1,-1], [-1,9,-1], [-1,-1,-1]]) \n",
    "kernel_sharpen_2 = np.array([[1,1,1], [1,-7,1], [1,1,1]]) \n",
    "kernel_sharpen_3 = np.array([[-1,-1,-1,-1,-1], \n",
    "                             [-1,2,2,2,-1], \n",
    "                             [-1,2,8,2,-1], \n",
    "                             [-1,2,2,2,-1], \n",
    "                             [-1,-1,-1,-1,-1]]) / 8.0 \n",
    " \n",
    "# applying different kernels to the input image \n",
    "output_1 = cv2.filter2D(img, -1, kernel_sharpen_1) \n",
    "output_2 = cv2.filter2D(img, -1, kernel_sharpen_2) \n",
    "output_3 = cv2.filter2D(img, -1, kernel_sharpen_3) \n",
    " \n",
    "cv2.imshow('Sharpening', output_1) \n",
    "cv2.imshow('Excessive Sharpening', output_2) \n",
    "cv2.imshow('Edge Enhancement', output_3) \n",
    "cv2.waitKey(0) \n"
   ]
  },
  {
   "cell_type": "markdown",
   "metadata": {},
   "source": [
    "### Make merge intersection of two Image using bitwise"
   ]
  },
  {
   "cell_type": "code",
   "execution_count": null,
   "metadata": {},
   "outputs": [],
   "source": [
    "\n",
    "# Load two images\n",
    "img1 = cv2.imread('bongSung.jpg')\n",
    "img2 = cv2.imread('opencv.jpg')\n",
    "\n",
    "# I want to put logo on top-left corner, so I create a ROI \n",
    "rows, cols, channels = img2.shape\n",
    "roi = img1[0:rows, 0:cols]\n",
    "\n",
    "# NOw we need to create a mask of the logo, mask is conversion to grayscale of an image\n",
    "img2gray = cv2.cvtColor(img2, cv2.COLOR_BGR2GRAY) \n",
    "ret, mask = cv2.threshold(img2gray, 220, 255, cv2.THRESH_BINARY_INV)\n",
    "cv2.imshow('mask', mask)\n",
    "\n",
    "mask_inv = cv2.bitwise_not(mask)\n",
    "#cv2.imshow(\"mask_inv\", mask_inv)\n",
    "\n",
    "#When using bitwise_and() in opencv with python then white + anycolor = anycolor; black + anycolor = black \n",
    "img1_bg = cv2.bitwise_and(roi,roi,mask = mask_inv)\n",
    "#cv2.imshow(\"img1_bg\", img1_bg)\n",
    "\n",
    "cv2.imshow(\"img2\", img2)\n",
    "\n",
    "img2_fg = cv2.bitwise_and(img2,img2,mask = mask)\n",
    "cv2.imshow('img2_fg', img2_fg)\n",
    "\n",
    "dst = cv2.add(img1_bg,img2_fg)\n",
    "\n",
    "img1[0:rows, 0:cols] = dst\n",
    "\n",
    "#cv2.imshow(\"Image\", img1)\n",
    "cv2.waitKey(0)\n",
    "\n",
    "cv2.destroyAllWindows()"
   ]
  },
  {
   "cell_type": "markdown",
   "metadata": {},
   "source": [
    "### Make the dilation, erosion, closing and Opening of some image\n",
    "\n",
    "https://www.ft.unicamp.br/docentes/magic/khoros/html-dip/c9/s4/front-page.html"
   ]
  },
  {
   "cell_type": "code",
   "execution_count": null,
   "metadata": {},
   "outputs": [],
   "source": [
    "import cv2 \n",
    "import numpy as np \n",
    " \n",
    "img = cv2.imread('02.jpg', 0)\n",
    "img = cv2.resize(img, None, fx=0.25, fy=0.25,interpolation=cv2.INTER_CUBIC)\n",
    " \n",
    "kernel = np.ones((5,5), np.uint8) \n",
    " \n",
    "img_erosion = cv2.erode(img, kernel, iterations=1) \n",
    "img_dilation = cv2.dilate(img, kernel, iterations=1)\n",
    "\n",
    "### Abertura= erosão seguida por dilatação\n",
    "img_abertura = cv2.dilate(img_erosion,kernel, iterations=1)\n",
    "\n",
    "### Fechamento = dilatação seguida por uma operação de erosão\n",
    "img_fechamento = cv2.erode(img_dilation,kernel,iterations=1)\n",
    "\n",
    "###  Suavilição não linear Abertura seguindo de Fechamento\n",
    "sua_1 = cv2.dilate(img_abertura, kernel, iterations=1)\n",
    "sua_2 = cv2.erode(sua_1,kernel,iterations=1)\n",
    "\n",
    "\n",
    "cv2.imshow('Input', img) \n",
    "cv2.imshow('Erosion', img_erosion) \n",
    "cv2.imshow('Dilation', img_dilation) \n",
    "cv2.imshow('Abertura = E(D)', img_abertura) \n",
    "cv2.imshow('Fechamento= D(E)', img_fechamento) \n",
    "cv2.imshow('Suavilição Não linear ', sua_2) \n",
    " \n",
    "cv2.waitKey(0)"
   ]
  },
  {
   "cell_type": "markdown",
   "metadata": {},
   "source": [
    "### Watershed_Algoritms"
   ]
  },
  {
   "cell_type": "code",
   "execution_count": null,
   "metadata": {},
   "outputs": [],
   "source": [
    "import numpy as np\n",
    "import cv2\n",
    "import sys\n",
    "\n",
    "\n",
    "if __name__=='__main__':\n",
    "    # Input image containing all the different shapes\n",
    "    img = cv2.imread(sys.argv[1])\n",
    "    img = cv2.resize(img, None, fx=0.25, fy=0.25,interpolation=cv2.INTER_CUBIC)\n",
    "    gray = cv2.cvtColor(img,cv2.COLOR_BGR2GRAY)\n",
    "    ret, thresh = cv2.threshold(gray, 0, 255, cv2.THRESH_BINARY_INV+cv2.THRESH_OTSU)\n",
    "\n",
    "    # noise removal\n",
    "    kernel = np.ones((3, 3), np.uint8)\n",
    "    opening = cv2.morphologyEx(thresh, cv2.MORPH_OPEN, kernel, iterations=4)\n",
    "    # sure background area\n",
    "    sure_bg = cv2.dilate(opening, kernel, iterations=3)\n",
    "\n",
    "    # Finding sure foreground area\n",
    "    dist_transform = cv2.distanceTransform(opening, cv2.DIST_L2, 5)\n",
    "    ret, sure_fg = cv2.threshold(dist_transform, 0.7 * dist_transform.max(), 255, 0)\n",
    "\n",
    "    # Finding unknown region\n",
    "    sure_fg = np.uint8(sure_fg)\n",
    "    unknown = cv2.subtract(sure_bg, sure_fg)\n",
    "\n",
    "    # Marker labelling\n",
    "    ret, markers = cv2.connectedComponents(sure_fg)\n",
    "\n",
    "    # Add one to all labels so that sure background is not 0, but 1\n",
    "    markers = markers+1\n",
    "\n",
    "    # Now, mark the region of unknown with zero\n",
    "    markers[unknown==255] = 0\n",
    "    markers = cv2.watershed(img, markers)\n",
    "    img[markers==-1] = [255, 255, 255]\n",
    "    cv2.imshow('background', sure_bg)\n",
    "    cv2.imshow('foreground', sure_fg)\n",
    "    cv2.imshow('threshold', thresh)\n",
    "    cv2.imshow('result', img)\n",
    "    cv2.waitKey(0)\n"
   ]
  },
  {
   "cell_type": "code",
   "execution_count": null,
   "metadata": {},
   "outputs": [],
   "source": []
  }
 ],
 "metadata": {
  "kernelspec": {
   "display_name": "TensorFlow",
   "language": "python",
   "name": "tensorflow"
  },
  "language_info": {
   "codemirror_mode": {
    "name": "ipython",
    "version": 3
   },
   "file_extension": ".py",
   "mimetype": "text/x-python",
   "name": "python",
   "nbconvert_exporter": "python",
   "pygments_lexer": "ipython3",
   "version": "3.7.3"
  }
 },
 "nbformat": 4,
 "nbformat_minor": 2
}
