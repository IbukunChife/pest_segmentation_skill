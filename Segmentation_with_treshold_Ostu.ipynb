{
 "cells": [
  {
   "cell_type": "code",
   "execution_count": null,
   "metadata": {},
   "outputs": [],
   "source": [
    "import os\n",
    "import cv2\n",
    "import h5py\n",
    "import random\n",
    "import numpy as np\n",
    "from skimage import img_as_float32\n",
    "from sklearn.base import BaseEstimator\n",
    "from sklearn.base import TransformerMixin\n",
    "from sklearn.model_selection import StratifiedShuffleSplit"
   ]
  },
  {
   "cell_type": "code",
   "execution_count": null,
   "metadata": {},
   "outputs": [],
   "source": [
    "class SegmentationProcessing(BaseEstimator,TransformerMixin):\n",
    "    \n",
    "    def __init__(self, path_in, path_out, attributes):\n",
    "        self.path_in = path_in\n",
    "        self.path_out = path_out\n",
    "        self.attributes = attributes\n",
    "        self.image_original = None\n",
    "        self.image_final = None\n",
    "        self.contador = 0\n",
    "        self.attr_moment = \"\"\n",
    "    \n",
    "    def fit(seft,*_):\n",
    "        return self\n",
    "            \n",
    "    def run_segmentation(self,*_):\n",
    "        \n",
    "        gray = cv2.cvtColor(self.image_original,cv2.COLOR_BGR2GRAY)\n",
    "        ret, thresh = cv2.threshold(gray, 0, 255, cv2.THRESH_BINARY_INV+cv2.THRESH_OTSU)\n",
    "\n",
    "        # noise removal\n",
    "        kernel = np.ones((5, 5), np.uint8)\n",
    "        opening = cv2.morphologyEx(thresh, cv2.MORPH_OPEN, kernel, iterations=1)\n",
    "\n",
    "        #testando a erosion do background\n",
    "        img_erosion = cv2.erode(opening, kernel, iterations=1) \n",
    "\n",
    "        # Fazer a abertura do background\n",
    "        img_abertura = cv2.dilate(img_erosion,kernel, iterations=1)\n",
    "\n",
    "        ###  Suavilição não linear Abertura seguindo de Fechamento\n",
    "        sua_1 = cv2.dilate(img_abertura, kernel, iterations=1)\n",
    "        sua_2 = cv2.erode(sua_1,kernel,iterations=1)\n",
    "\n",
    "        # sure background area\n",
    "        sure_bg = cv2.dilate(sua_2, kernel, iterations=10)\n",
    "        \n",
    "        # removal background in the image\n",
    "        self.image_final = cv2.bitwise_and(self.image_original,self.image_original,mask = sure_bg)   \n",
    "        \n",
    "        # Save the image\n",
    "        cv2.imwrite(\"{}/{}/{}.jpg\".format(self.path_out,self.attr_moment,self.contador),self.image_final)\n",
    "        self.contador +=1 \n",
    "    \n",
    "    def get_files(self, attribute):\n",
    "        files = sorted([os.path.join(self.path_in, attribute, file)\n",
    "                        for file in os.listdir(self.path_in + \"/\"+attribute)\n",
    "                        if file.endswith('.jpg')])\n",
    "        random.shuffle(files)\n",
    "        return files    \n",
    "    \n",
    "    def load_image(self,item):\n",
    "        \n",
    "        self.image_original = cv2.imread(item)\n",
    "        self.image_original = cv2.resize(self.image_original, None, fx=0.5, fy=0.5,interpolation=cv2.INTER_CUBIC)\n",
    "        self.run_segmentation()\n",
    "  \n",
    "    def make_sets(self, *_):\n",
    "        for attribute in self.attributes:\n",
    "            self.attr_moment = attribute\n",
    "            \n",
    "            dados = self.get_files(attribute)\n",
    "            \n",
    "            for item in dados:\n",
    "                image = self.load_image(item)\n",
    "            self.contador = 0\n",
    "            \n",
    "        \n",
    "    def transform(self,*_):\n",
    "        self.make_sets()\n",
    "        "
   ]
  },
  {
   "cell_type": "code",
   "execution_count": null,
   "metadata": {},
   "outputs": [],
   "source": [
    "path_in = \"Imagens/insectos_in\"\n",
    "path_out = \"Imagens/insectos_out\"\n",
    "attributes = [\"bliPuch\",\"flavi\",\"larg\"]\n",
    "crop = SegmentationProcessing (path_in, path_out, attributes)"
   ]
  },
  {
   "cell_type": "code",
   "execution_count": null,
   "metadata": {},
   "outputs": [],
   "source": [
    "_=crop.transform()"
   ]
  }
 ],
 "metadata": {
  "kernelspec": {
   "display_name": "TensorFlow",
   "language": "python",
   "name": "tensorflow"
  },
  "language_info": {
   "codemirror_mode": {
    "name": "ipython",
    "version": 3
   },
   "file_extension": ".py",
   "mimetype": "text/x-python",
   "name": "python",
   "nbconvert_exporter": "python",
   "pygments_lexer": "ipython3",
   "version": "3.7.3"
  }
 },
 "nbformat": 4,
 "nbformat_minor": 2
}
