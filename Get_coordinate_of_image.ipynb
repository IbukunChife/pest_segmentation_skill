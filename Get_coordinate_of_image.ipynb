{
 "cells": [
  {
   "cell_type": "markdown",
   "metadata": {},
   "source": [
    "Digamos que você tem uma imagem e você précisa pegar a sua position para localizar por examplo o centro da imagem\n",
    "O primeiro passo é carregar a imagem em cor cinza assim sera considerada o primeira canal do formato RGB\n",
    "em seguinte dependendo da forma de captura é importante pensar a desconsiderar os cabecaçario \n",
    "(a faixa do botão de fechar)\n",
    "tornar as cores brancas e preta\n",
    "gerar a matriz de cores diferente da cor preta.\n",
    "pegar os coordenadas"
   ]
  },
  {
   "cell_type": "code",
   "execution_count": null,
   "metadata": {},
   "outputs": [],
   "source": [
    "#!/usr/bin/env python3\n",
    "\n",
    "# Load image - work in greyscale as 1/3 as many pixels\n",
    "im = cv2.imread('01.jpg',cv2.IMREAD_GRAYSCALE)\n",
    "# im = cv2.resize(im, None, fx=0.25, fy=0.25,interpolation=cv2.INTER_CUBIC)\n",
    "\n",
    "# Overwrite \"Current Best\" with white - these numbers will vary depending on what you capture\n",
    "im[134:400,447:714] = 255\n",
    "\n",
    "# Overwrite menu and \"Close\" button at top-right with white - these numbers will vary depending on what you capture\n",
    "im[3:107,1494:1726] = 255\n",
    "\n",
    "# Negate image so whites become black\n",
    "im=255-im\n",
    "\n",
    "# Find anything not black, i.e. the ball\n",
    "nz = cv2.findNonZero(im)\n",
    "\n",
    "# Find top, bottom, left and right edge of ball\n",
    "a = nz[:,0,0].min()\n",
    "b = nz[:,0,0].max()\n",
    "c = nz[:,0,1].min()\n",
    "d = nz[:,0,1].max()\n",
    "print('a:{}, b:{}, c:{}, d:{}'.format(a,b,c,d))\n",
    "\n",
    "# Average top and bottom edges, left and right edges, to give centre\n",
    "c0 = (a+b)/2\n",
    "c1 = (c+d)/2\n",
    "print('Ball centre: {},{}'.format(c0,c1))"
   ]
  }
 ],
 "metadata": {
  "kernelspec": {
   "display_name": "TensorFlow",
   "language": "python",
   "name": "tensorflow"
  },
  "language_info": {
   "codemirror_mode": {
    "name": "ipython",
    "version": 3
   },
   "file_extension": ".py",
   "mimetype": "text/x-python",
   "name": "python",
   "nbconvert_exporter": "python",
   "pygments_lexer": "ipython3",
   "version": "3.7.3"
  }
 },
 "nbformat": 4,
 "nbformat_minor": 2
}
